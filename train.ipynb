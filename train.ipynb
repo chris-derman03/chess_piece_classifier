{
 "cells": [
  {
   "cell_type": "code",
   "execution_count": 1,
   "metadata": {},
   "outputs": [],
   "source": [
    "import numpy as np\n",
    "from PIL import Image\n",
    "import matplotlib.pyplot as plt\n",
    "import os"
   ]
  },
  {
   "cell_type": "markdown",
   "metadata": {},
   "source": [
    "# Part 1 - Data"
   ]
  },
  {
   "cell_type": "markdown",
   "metadata": {},
   "source": [
    "## Let's Load in the image data for all the pieces\n",
    "#### * While also tracking the class of each image in a separate array *\n",
    "#### Note that images are all different sizes. There are smart ways to resize images. This includes composing multiple transforms, like scaling down certain axes, then cropping, etc. For the purpose of this project I will simply resize all images to 256x256 RGB images."
   ]
  },
  {
   "cell_type": "code",
   "execution_count": 14,
   "metadata": {},
   "outputs": [],
   "source": [
    "# All piece names in Chess\n",
    "pieces = np.array([\"Bishop\", \"King\", \"Knight\", \"Pawn\", \"Queen\", \"Rook\"])\n",
    "\n",
    "# Store our images\n",
    "image_data = []\n",
    "# Store their labels\n",
    "image_labels = np.array([])\n",
    "\n",
    "fp = \"data/\"\n",
    "for piece in pieces:\n",
    "    \n",
    "    # Directory of images for this piece\n",
    "    piece_dir = fp + piece\n",
    "    \n",
    "    # Get all image names in this dir \n",
    "    piece_images = os.listdir(piece_dir)\n",
    "\n",
    "    # For each image name\n",
    "    for image in piece_images:\n",
    "        \n",
    "        # Ignore .gif files\n",
    "        if (image.split(\".\")[1] != \"gif\"):\n",
    "        \n",
    "            # Create the filepath\n",
    "            image_fp = fp + piece + \"/\" + image\n",
    "\n",
    "            # Open and resize the image\n",
    "            img = np.array(Image.open(image_fp).resize((256,256)))\n",
    "\n",
    "            image_data.append(img)\n",
    "            image_labels = np.append(image_labels, piece)\n",
    "        \n",
    "image_data = np.array(image_data)"
   ]
  },
  {
   "cell_type": "code",
   "execution_count": 16,
   "metadata": {},
   "outputs": [
    {
     "data": {
      "text/plain": [
       "(555, 256, 256, 3)"
      ]
     },
     "execution_count": 16,
     "metadata": {},
     "output_type": "execute_result"
    }
   ],
   "source": [
    "image_data.shape"
   ]
  },
  {
   "cell_type": "code",
   "execution_count": null,
   "metadata": {},
   "outputs": [],
   "source": []
  }
 ],
 "metadata": {
  "kernelspec": {
   "display_name": "Python 3",
   "language": "python",
   "name": "python3"
  },
  "language_info": {
   "codemirror_mode": {
    "name": "ipython",
    "version": 3
   },
   "file_extension": ".py",
   "mimetype": "text/x-python",
   "name": "python",
   "nbconvert_exporter": "python",
   "pygments_lexer": "ipython3",
   "version": "3.8.6"
  }
 },
 "nbformat": 4,
 "nbformat_minor": 4
}
